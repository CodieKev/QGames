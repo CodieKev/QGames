{
 "cells": [
  {
   "cell_type": "code",
   "execution_count": 10,
   "metadata": {},
   "outputs": [
    {
     "name": "stdout",
     "output_type": "stream",
     "text": [
      "[0.254, 0]\n"
     ]
    }
   ],
   "source": [
    "from qiskit import QuantumRegister, ClassicalRegister\n",
    "from qiskit import QuantumCircuit, execute, Aer\n",
    "import numpy as np\n",
    "\n",
    "n = 2                                            # Number of player(alive)\n",
    "m = 1                                  # Total number of sources that can deal damage    \n",
    "l = 0\n",
    "Dam = [1]  \n",
    "k=2*n+m+l\n",
    "const_1= 0.668\n",
    "A = [1,1,const_1,1,1]\n",
    "\n",
    "def Event(A):\n",
    "    Damage = [0]*n\n",
    "    counts = 10000\n",
    "    qc = QuantumCircuit()\n",
    "    q = QuantumRegister(2*(n+l+m)+1+n, 'q')\n",
    "    c = ClassicalRegister(n, 'c')    \n",
    "    qc.add_register(q)\n",
    "    qc.add_register(c)\n",
    "    for i in range (2*n+m+l+1):\n",
    "        if i <n:                                                               \n",
    "            qc.u3(A[i]*np.pi, 0, 0, q[i])\n",
    "            qc.x(q[i+n])\n",
    "            qc.u3(A[i+n]*np.pi, 0, 0, q[i+n])\n",
    "        if n<=i<n+m:                                                            \n",
    "            qc.x(q[i+n])\n",
    "            qc.u3(A[i+n]*(1-Dam[i-n])*np.pi, 0, 0, q[i+n])\n",
    "        if n+m<=i<n+m+l:\n",
    "            qc.x(q[i+n])\n",
    "            qc.u3(A[i+n]*np.pi, 0, 0, q[i+n])\n",
    "        if i == n+m+l:\n",
    "            qc.mct(q[2*n:2*n+l+m], q[2*n+m+l+1], q[3*n+m+l+2:3*n+2*l+2*m+1])\n",
    "        if n+m+l<i<2*n+m+l+1:        \n",
    "            qc.ccx(q[i-(n+m+l+1)], q[i-(m+l+1)], q[2*n+m+l])           \n",
    "            qc.ccx(q[2*n+m+l], q[2*n+m+l+1], q[i+n+1])\n",
    "            qc.ccx(q[i-(n+m+l+1)], q[i-(m+l+1)], q[2*n+m+l])\n",
    "            qc.measure(q[i+1+n], c[2*n+m+l-i])\n",
    "    qc.draw()\n",
    "    backend = Aer.get_backend('qasm_simulator')\n",
    "    job = execute(qc, backend=backend,shots = counts)\n",
    "    job_result = job.result()\n",
    "    A = list(job_result.get_counts(qc).keys())\n",
    "    for i in A:\n",
    "        B = list(i)\n",
    "        for j in range (n):\n",
    "            if B[j] == '1':\n",
    "                Damage[j]+= int(job_result.get_counts(qc).get(i)) /counts\n",
    "    return Damage\n",
    "\n",
    "print(Event(A))"
   ]
  },
  {
   "cell_type": "code",
   "execution_count": 73,
   "metadata": {},
   "outputs": [],
   "source": [
    "import pygame\n",
    "pygame.init()\n",
    "\n",
    "xmin = ymin = 0\n",
    "\n",
    "ymax = 700\n",
    "p_y = 0.05*ymax\n",
    "d_x = ymax/2-p_y#450\n",
    "xmax = d_x*3\n",
    "r_1 = 0.320*ymax                                        # Constant for the division between the circuit and gates\n",
    "s_d = 0.112*ymax                                           # Constatnt for grids in the first 2 box \n",
    "win = pygame.display.set_mode((int(xmax),int(ymax)))\n",
    "pygame.display.set_caption(\"QGame_1\")\n",
    "run = True\n",
    "while run:\n",
    "    pygame.time.delay(10)\n",
    "    for event in pygame.event.get():\n",
    "        if event.type == pygame.QUIT:\n",
    "            run = False\n",
    "    \n",
    "    win.fill((255,255,255))\n",
    "    \n",
    "    # Structure\n",
    "    pygame.draw.line(win, (0,0,0), (0, ymax/2),(xmax,ymax/2), 2)   \n",
    "    pygame.draw.line(win, (0,0,0), (d_x,p_y),(d_x,ymax/2), 5)\n",
    "    pygame.draw.line(win, (0,0,0), (d_x*2,p_y),(d_x*2,ymax/2), 5)  \n",
    "    pygame.draw.line(win, (0,0,0), (d_x,ymax/2+p_y),(d_x,ymax), 5)  \n",
    "    pygame.draw.line(win, (0,0,0), (d_x*2,ymax/2+p_y),(d_x*2,ymax), 5)  \n",
    "\n",
    "    pygame.draw.line(win, (0,0,0), (0,p_y),(xmax,p_y), 2)\n",
    "    pygame.draw.line(win, (0,0,0), (0,ymax/2+p_y),(xmax,ymax/2+p_y), 2)\n",
    "    # Division between the last box\n",
    "    pygame.draw.line(win, (0,0,0), (d_x*2,r_1+p_y),(xmax,r_1+p_y), 2)\n",
    "    pygame.draw.line(win, (0,0,0), (d_x*2,r_1+p_y+ymax/2),(xmax,r_1+p_y+ymax/2), 2)\n",
    "    \n",
    "    \n",
    "    # Section in First and second Box \n",
    "    def grid(x,y):\n",
    "        for i in range(1,4):\n",
    "            pygame.draw.line(win, (0,0,0), (x,s_d*i+y),(x+d_x,s_d*i+y), 2)\n",
    "            pygame.draw.line(win, (0,0,0), (s_d*i+x,y),(s_d*i+x,y+d_x), 2)\n",
    "        return()\n",
    "\n",
    "    for i in range(2):\n",
    "        for j in range(2):\n",
    "            grid(d_x*i,j*ymax/2+p_y)\n",
    "            \n",
    "            \n",
    "    H = pygame.image.load(r'Resource\\H.jpg')\n",
    "    X = pygame.image.load(r'Resource\\X.jpg')\n",
    "    D = pygame.image.load(r'Resource\\Dot.jpg')\n",
    "    edge = int(0.07*ymax)\n",
    "    H = pygame.transform.scale(H, (edge, edge))\n",
    "    X = pygame.transform.scale(X, (edge, edge))\n",
    "    D = pygame.transform.scale(D, (edge, edge))\n",
    "    \n",
    "    #Gates Position\n",
    "    def gates(x,y):\n",
    "        win.blit(H, (x+0.03*ymax, y+0.03*ymax)) \n",
    "        win.blit(X, (x+0.13*ymax, y+0.03*ymax)) \n",
    "        win.blit(D, (x+0.23*ymax, y+0.03*ymax)) \n",
    "        return()\n",
    "    gates(0.9*ymax,ymax*0.370)\n",
    "    gates(0.9*ymax,ymax*0.870)\n",
    "    \n",
    "    # Qubit Wire\n",
    "    for i in range (4):\n",
    "        pygame.draw.line(win, (0,0,0), (d_x*2+0.0148148*xmax,0.09*ymax+0.08*ymax*i),((1-0.0148148)*xmax,0.09*ymax+0.08*ymax*i), 2)\n",
    "        pygame.draw.line(win, (0,0,0), (d_x*2+0.0148148*xmax,0.59*ymax+0.08*ymax*i),((1-0.0148148)*xmax,0.59*ymax+0.08*ymax*i), 2)\n",
    "\n",
    "    \n",
    "    \n",
    "    \n",
    "    \n",
    "    pygame.display.update() \n",
    "    \n",
    "pygame.quit()"
   ]
  },
  {
   "cell_type": "code",
   "execution_count": 60,
   "metadata": {
    "scrolled": true
   },
   "outputs": [
    {
     "data": {
      "text/plain": [
       "0.07"
      ]
     },
     "execution_count": 60,
     "metadata": {},
     "output_type": "execute_result"
    }
   ],
   "source": [
    "70/(1000)"
   ]
  },
  {
   "cell_type": "code",
   "execution_count": null,
   "metadata": {},
   "outputs": [],
   "source": []
  }
 ],
 "metadata": {
  "kernelspec": {
   "display_name": "Python 3",
   "language": "python",
   "name": "python3"
  },
  "language_info": {
   "codemirror_mode": {
    "name": "ipython",
    "version": 3
   },
   "file_extension": ".py",
   "mimetype": "text/x-python",
   "name": "python",
   "nbconvert_exporter": "python",
   "pygments_lexer": "ipython3",
   "version": "3.7.1"
  }
 },
 "nbformat": 4,
 "nbformat_minor": 4
}
