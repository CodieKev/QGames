{
 "cells": [
  {
   "cell_type": "markdown",
   "metadata": {},
   "source": [
    "# Imports"
   ]
  },
  {
   "cell_type": "code",
   "execution_count": 407,
   "metadata": {},
   "outputs": [],
   "source": [
    "from qiskit import QuantumRegister, ClassicalRegister\n",
    "from qiskit import QuantumCircuit, execute, Aer\n",
    "import numpy as np\n",
    "import pygame\n",
    "from math import *"
   ]
  },
  {
   "cell_type": "code",
   "execution_count": 2,
   "metadata": {},
   "outputs": [
    {
     "name": "stdout",
     "output_type": "stream",
     "text": [
      "[0.2496, 0]\n"
     ]
    }
   ],
   "source": [
    "n = 2                                            # Number of player(alive)\n",
    "m = 1                                  # Total number of sources that can deal damage    \n",
    "l = 0\n",
    "Dam = [1]  \n",
    "k=2*n+m+l\n",
    "const_1= 0.668\n",
    "A = [1,1,const_1,1,1]\n",
    "\n",
    "def Event(A):\n",
    "    Damage = [0]*n\n",
    "    counts = 10000\n",
    "    qc = QuantumCircuit()\n",
    "    q = QuantumRegister(2*(n+l+m)+1+n, 'q')\n",
    "    c = ClassicalRegister(n, 'c')    \n",
    "    qc.add_register(q)\n",
    "    qc.add_register(c)\n",
    "    for i in range (2*n+m+l+1):\n",
    "        if i <n:                                                               \n",
    "            qc.u3(A[i]*np.pi, 0, 0, q[i])\n",
    "            qc.x(q[i+n])\n",
    "            qc.u3(A[i+n]*np.pi, 0, 0, q[i+n])\n",
    "        if n<=i<n+m:                                                            \n",
    "            qc.x(q[i+n])\n",
    "            qc.u3(A[i+n]*(1-Dam[i-n])*np.pi, 0, 0, q[i+n])\n",
    "        if n+m<=i<n+m+l:\n",
    "            qc.x(q[i+n])\n",
    "            qc.u3(A[i+n]*np.pi, 0, 0, q[i+n])\n",
    "        if i == n+m+l:\n",
    "            qc.mct(q[2*n:2*n+l+m], q[2*n+m+l+1], q[3*n+m+l+2:3*n+2*l+2*m+1])\n",
    "        if n+m+l<i<2*n+m+l+1:        \n",
    "            qc.ccx(q[i-(n+m+l+1)], q[i-(m+l+1)], q[2*n+m+l])           \n",
    "            qc.ccx(q[2*n+m+l], q[2*n+m+l+1], q[i+n+1])\n",
    "            qc.ccx(q[i-(n+m+l+1)], q[i-(m+l+1)], q[2*n+m+l])\n",
    "            qc.measure(q[i+1+n], c[2*n+m+l-i])\n",
    "    qc.draw()\n",
    "    backend = Aer.get_backend('qasm_simulator')\n",
    "    job = execute(qc, backend=backend,shots = counts)\n",
    "    job_result = job.result()\n",
    "    A = list(job_result.get_counts(qc).keys())\n",
    "    for i in A:\n",
    "        B = list(i)\n",
    "        for j in range (n):\n",
    "            if B[j] == '1':\n",
    "                Damage[j]+= int(job_result.get_counts(qc).get(i)) /counts\n",
    "    return Damage\n",
    "\n",
    "print(Event(A))"
   ]
  },
  {
   "cell_type": "code",
   "execution_count": 277,
   "metadata": {},
   "outputs": [],
   "source": [
    "def circuit(mat):\n",
    "    qc = QuantumCircuit(4,4)\n",
    "    for i in range(4):\n",
    "        temp_const_1 = list(np.where(np.array(mat[:,i]).flatten()==1)[0])\n",
    "        temp_const_2 = list(np.where(np.array(mat[:,i]).flatten()==2)[0])\n",
    "        temp_const_3 = list(np.where(np.array(mat[:,i]).flatten()==3)[0])\n",
    "        \n",
    "        \n",
    "        if len(temp_const_1) != 0:\n",
    "            if len(temp_const_3) ==0:\n",
    "                qc.h(temp_const_1)\n",
    "            else:\n",
    "                qc.ch(temp_const_3,temp_const_1)\n",
    "        if len(temp_const_2) != 0:\n",
    "            qc.mcx(temp_const_3,temp_const_2)\n",
    "        \n",
    "    qc.measure([0,1,2,3],[0,1,2,3])\n",
    "    return(qc)"
   ]
  },
  {
   "cell_type": "code",
   "execution_count": 282,
   "metadata": {},
   "outputs": [],
   "source": [
    "def result(circuit,counts):\n",
    "    qc = circuit\n",
    "    \n",
    "    backend = Aer.get_backend('qasm_simulator')\n",
    "    job = execute(qc, backend=backend,shots = counts)\n",
    "    job_result = job.result()\n",
    "    result = job_result.get_counts(qc)\n",
    "    return(result)"
   ]
  },
  {
   "cell_type": "code",
   "execution_count": 334,
   "metadata": {},
   "outputs": [],
   "source": [
    "def val(result):\n",
    "    p = np.array([0]*16)\n",
    "    for i in range(16):\n",
    "        x = np.binary_repr(i, width=4)\n",
    "        if x in result:\n",
    "            p[i] = 1\n",
    "    p = p.reshape(4, 4)\n",
    "    return(p)"
   ]
  },
  {
   "cell_type": "code",
   "execution_count": 478,
   "metadata": {},
   "outputs": [
    {
     "data": {
      "text/plain": [
       "1.0"
      ]
     },
     "execution_count": 478,
     "metadata": {},
     "output_type": "execute_result"
    }
   ],
   "source": [
    "temp_const_3 = int(list(result(circuit(player_mat[0]),1).keys())[0],2)\n"
   ]
  },
  {
   "cell_type": "code",
   "execution_count": 483,
   "metadata": {},
   "outputs": [
    {
     "data": {
      "text/plain": [
       "0"
      ]
     },
     "execution_count": 483,
     "metadata": {},
     "output_type": "execute_result"
    }
   ],
   "source": [
    "8%4"
   ]
  },
  {
   "cell_type": "code",
   "execution_count": 353,
   "metadata": {
    "scrolled": true
   },
   "outputs": [
    {
     "data": {
      "text/plain": [
       "[0, 1]"
      ]
     },
     "execution_count": 353,
     "metadata": {},
     "output_type": "execute_result"
    }
   ],
   "source": [
    "int(\"110100010\",2)"
   ]
  },
  {
   "cell_type": "code",
   "execution_count": 336,
   "metadata": {
    "scrolled": true
   },
   "outputs": [
    {
     "data": {
      "text/plain": [
       "array([[0, 0, 1, 0],\n",
       "       [0, 0, 1, 1],\n",
       "       [1, 0, 0, 0],\n",
       "       [1, 1, 0, 0]])"
      ]
     },
     "execution_count": 336,
     "metadata": {},
     "output_type": "execute_result"
    }
   ],
   "source": [
    "val(result(circuit(player_mat[0]),100))"
   ]
  },
  {
   "cell_type": "code",
   "execution_count": 302,
   "metadata": {
    "scrolled": true
   },
   "outputs": [
    {
     "data": {
      "image/png": "[encoded data removed]",
      "text/plain": [
       "<Figure size 599.592x325.08 with 1 Axes>"
      ]
     },
     "execution_count": 302,
     "metadata": {},
     "output_type": "execute_result"
    }
   ],
   "source": [
    "circuit(player_mat[0]).draw('mpl')"
   ]
  },
  {
   "cell_type": "code",
   "execution_count": 244,
   "metadata": {},
   "outputs": [
    {
     "data": {
      "text/plain": [
       "array([[3., 0., 0., 1.],\n",
       "       [3., 0., 0., 0.],\n",
       "       [0., 3., 2., 0.],\n",
       "       [2., 1., 3., 2.]])"
      ]
     },
     "execution_count": 244,
     "metadata": {},
     "output_type": "execute_result"
    }
   ],
   "source": [
    "player_mat[0]"
   ]
  },
  {
   "cell_type": "code",
   "execution_count": 183,
   "metadata": {
    "scrolled": true
   },
   "outputs": [
    {
     "data": {
      "text/html": [
       "<pre style=\"word-wrap: normal;white-space: pre;background: #fff0;line-height: 1.1;font-family: &quot;Courier New&quot;,Courier,monospace\">     \n",
       "q_0: \n",
       "     \n",
       "q_1: \n",
       "     \n",
       "q_2: \n",
       "     \n",
       "q_3: \n",
       "     \n",
       "c_0: \n",
       "     \n",
       "c_1: \n",
       "     \n",
       "c_2: \n",
       "     \n",
       "c_3: \n",
       "     </pre>"
      ],
      "text/plain": [
       "     \n",
       "q_0: \n",
       "     \n",
       "q_1: \n",
       "     \n",
       "q_2: \n",
       "     \n",
       "q_3: \n",
       "     \n",
       "c_0: \n",
       "     \n",
       "c_1: \n",
       "     \n",
       "c_2: \n",
       "     \n",
       "c_3: \n",
       "     "
      ]
     },
     "execution_count": 183,
     "metadata": {},
     "output_type": "execute_result"
    }
   ],
   "source": [
    "qc1.draw()"
   ]
  },
  {
   "cell_type": "code",
   "execution_count": 325,
   "metadata": {},
   "outputs": [],
   "source": [
    "def grid_pos(x,y):\n",
    "        temp_x_pos = []\n",
    "        temp_y_pos = []\n",
    "        for i in range(0,4):\n",
    "            temp_x_pos.append(s_d*i+x)\n",
    "            temp_y_pos.append(s_d*i+y)\n",
    "        temp_x_pos.sort()\n",
    "        temp_y_pos.sort()\n",
    "        return(temp_x_pos,temp_y_pos)"
   ]
  },
  {
   "cell_type": "code",
   "execution_count": 497,
   "metadata": {},
   "outputs": [],
   "source": [
    "def position_check(bool_grid,player1_pos):\n",
    "    check_2 = False\n",
    "    for i in range(-1,2):\n",
    "        for j in range(-1,2):\n",
    "            if bool_grid[player1_pos[0]-i,player1_pos[1]-j] == 1 and i+j+i*j!=0:\n",
    "                check_2 = True\n",
    "                break\n",
    "    return((bool_grid[player1_pos[1],player1_pos[0]] ==1 and len(np.where(bool_grid==1)[0])!=1) or check_2 and len(np.where(bool_grid==1)[0])==1)\n",
    "    \n",
    "    "
   ]
  },
  {
   "cell_type": "markdown",
   "metadata": {},
   "source": [
    "# Intializarion of Data and Constant"
   ]
  },
  {
   "cell_type": "code",
   "execution_count": 412,
   "metadata": {
    "scrolled": true
   },
   "outputs": [],
   "source": [
    "xmin = ymin = 0\n",
    "\n",
    "ymax = 700\n",
    "p_y = 0.05*ymax\n",
    "d_x = ymax/2-p_y#450\n",
    "xmax = d_x*3\n",
    "r_1 = 0.320*ymax                                        # Constant for the division between the circuit and gates\n",
    "s_d = 0.112*ymax                                           # Constatnt for grids in the first 2 box \n",
    "\n",
    "x_temp= y_temp = 0\n",
    "Gate = 0\n",
    "x_c = []\n",
    "y_c1 = []\n",
    "y_c2 = []\n",
    "x_gate = []\n",
    "y_gate_1 = []\n",
    "y_gate_2 = []\n",
    "for i in range (4):\n",
    "    y_c1.append(0.09*ymax+0.08*ymax*i)\n",
    "    x_c.append((0.965+0.1*i)*ymax)\n",
    "    y_c2.append(0.59*ymax+0.08*ymax*i)\n",
    "for i in range(3):\n",
    "    x_gate.append((0.965+0.1*i)*ymax)\n",
    "    y_gate_1.append(ymax*0.435)\n",
    "    y_gate_2.append(ymax*0.935)\n",
    "y_c = [y_c1,y_c2]\n",
    "y_gate=[y_gate_1,y_gate_2]\n",
    "x_cancle = 1.265*ymax\n",
    "y_cancle = [ymax*0.435,ymax*0.935]\n",
    "H = pygame.image.load(r'Resource\\H.jpg')\n",
    "X = pygame.image.load(r'Resource\\X.jpg')\n",
    "D = pygame.image.load(r'Resource\\D.jpg')\n",
    "C = pygame.image.load(r'Resource\\C.png')\n",
    "coin = pygame.image.load(r'Resource\\coin.jpg')\n",
    "player1_image = pygame.image.load(r'Resource\\player.png')\n",
    "player2_image = pygame.image.load(r'Resource\\player.jpg')\n",
    "\n",
    "edge = int(0.07*ymax)\n",
    "H = pygame.transform.scale(H, (edge, edge))\n",
    "X = pygame.transform.scale(X, (edge, edge))\n",
    "D = pygame.transform.scale(D, (edge, edge))\n",
    "C = pygame.transform.scale(C, (edge, edge))\n",
    "coin = pygame.transform.scale(coin, (floor(edge/2), floor(edge/2)))\n",
    "player1_image = pygame.transform.scale(player1_image, (edge, edge))\n",
    "player2_image = pygame.transform.scale(player2_image, (edge, edge))\n",
    "player_image = [player1_image,player2_image]\n",
    "\n",
    "coord_grid= [[[],[]],[[],[]]]\n",
    "for i in range(2):\n",
    "        for j in range(2):\n",
    "            coord_grid[i][j] = grid_pos(d_x*i,j*ymax/2+p_y)"
   ]
  },
  {
   "cell_type": "code",
   "execution_count": 371,
   "metadata": {},
   "outputs": [
    {
     "data": {
      "text/plain": [
       "array([[3., 3., 3., 3.],\n",
       "       [3., 3., 3., 3.],\n",
       "       [3., 3., 3., 3.],\n",
       "       [3., 3., 3., 3.]])"
      ]
     },
     "execution_count": 371,
     "metadata": {},
     "output_type": "execute_result"
    }
   ],
   "source": [
    "temp_mat"
   ]
  },
  {
   "cell_type": "markdown",
   "metadata": {},
   "source": [
    "# Structure of the Board"
   ]
  },
  {
   "cell_type": "code",
   "execution_count": 390,
   "metadata": {},
   "outputs": [],
   "source": [
    "def Structure():\n",
    "    pygame.draw.line(win, (0,0,0), (0, ymax/2),(xmax,ymax/2), 2)   \n",
    "    pygame.draw.line(win, (0,0,0), (d_x,p_y),(d_x,ymax/2), 5)\n",
    "    pygame.draw.line(win, (0,0,0), (d_x*2,p_y),(d_x*2,ymax/2), 5)  \n",
    "    pygame.draw.line(win, (0,0,0), (d_x,ymax/2+p_y),(d_x,ymax), 5)  \n",
    "    pygame.draw.line(win, (0,0,0), (d_x*2,ymax/2+p_y),(d_x*2,ymax), 5)  \n",
    "\n",
    "    pygame.draw.line(win, (0,0,0), (0,p_y),(xmax,p_y), 2)\n",
    "    pygame.draw.line(win, (0,0,0), (0,ymax/2+p_y),(xmax,ymax/2+p_y), 2)\n",
    "    # Division between the last box\n",
    "    pygame.draw.line(win, (0,0,0), (d_x*2,r_1+p_y),(xmax,r_1+p_y), 2)\n",
    "    pygame.draw.line(win, (0,0,0), (d_x*2,r_1+p_y+ymax/2),(xmax,r_1+p_y+ymax/2), 2)\n",
    "    \n",
    "    \n",
    "    # Section in First and second Box \n",
    "    def grid(x,y):\n",
    "        for i in range(1,4):\n",
    "            pygame.draw.line(win, (0,0,0), (x,s_d*i+y),(x+d_x,s_d*i+y), 2)\n",
    "            pygame.draw.line(win, (0,0,0), (s_d*i+x,y),(s_d*i+x,y+d_x), 2)\n",
    "        return()\n",
    "    \n",
    "    for i in range(2):\n",
    "        for j in range(2):\n",
    "            grid(d_x*i,j*ymax/2+p_y)\n",
    "            \n",
    "            \n",
    "    \n",
    "    #Gates Position\n",
    "    def gates(x,y):\n",
    "        win.blit(H, (x+0.03*ymax, y+0.03*ymax)) \n",
    "        win.blit(X, (x+0.13*ymax, y+0.03*ymax)) \n",
    "        win.blit(D, (x+0.23*ymax, y+0.03*ymax))\n",
    "        win.blit(C, (x+0.33*ymax, y+0.03*ymax))\n",
    "                          \n",
    "        return()\n",
    "    gates(0.9*ymax,ymax*0.370)\n",
    "    gates(0.9*ymax,ymax*0.870)\n",
    "    \n",
    "    # Qubit Wire\n",
    "    for i in range (4):\n",
    "        pygame.draw.line(win, (0,0,0), (d_x*2+0.0148148*xmax,0.09*ymax+0.08*ymax*i),((1-0.0148148)*xmax,0.09*ymax+0.08*ymax*i), 2)\n",
    "        pygame.draw.line(win, (0,0,0), (d_x*2+0.0148148*xmax,0.59*ymax+0.08*ymax*i),((1-0.0148148)*xmax,0.59*ymax+0.08*ymax*i), 2)\n",
    "    \n",
    "    \n",
    "    return()"
   ]
  },
  {
   "cell_type": "markdown",
   "metadata": {},
   "source": [
    "# Pygame"
   ]
  },
  {
   "cell_type": "code",
   "execution_count": 502,
   "metadata": {},
   "outputs": [],
   "source": [
    "player_mat= [np.zeros((4,4)),np.zeros((4,4))]\n",
    "player = 1\n",
    "bool_grid = np.array([0]*16)\n",
    "bool_grid = bool_grid.reshape(4, 4)\n",
    "temp_mat = 3*np.ones((4,4))\n",
    "check_1 = True\n",
    "check_3 = 0\n",
    "player1_pos = [0,0]\n",
    "pygame.init()\n",
    "win = pygame.display.set_mode((int(xmax),int(ymax)))\n",
    "pygame.display.set_caption(\"QGame_1\")\n",
    "run = True\n",
    "\n",
    "while run:\n",
    "    ###\n",
    "    pygame.time.delay(10)\n",
    "    for event in pygame.event.get():\n",
    "        if event.type == pygame.QUIT:\n",
    "            run = False\n",
    "    \n",
    "    \n",
    "    win.fill((255,255,255))\n",
    "    ###\n",
    "    \n",
    "    if player ==1:\n",
    "        player_mat[1] = np.zeros((4,4))\n",
    "    else:\n",
    "        player_mat[0] = np.zeros((4,4))\n",
    "    Structure()\n",
    "    Gates_image = [H,X,D]\n",
    "    \n",
    "    for i in range(len(x_c)):\n",
    "        for j in range(len(y_c1)):\n",
    "            pygame.draw.circle(win, (0,0,0), (x_c[i],y_c1[j]), 3)\n",
    "            pygame.draw.circle(win, (0,0,0), (x_c[i],y_c2[j]), 3)\n",
    "    \n",
    "    xm_pos,ym_pos=pygame.mouse.get_pos()\n",
    "    \n",
    "\n",
    "    if pygame.mouse.get_pressed()[0]:\n",
    "        if abs(xm_pos-x_cancle)<=(0.035*ymax) and abs(ym_pos - y_cancle[int(player-1)])<=(0.035*ymax):\n",
    "            player_mat[player-1] = np.zeros((4,4))\n",
    "            check_1 = True\n",
    "        \n",
    "        if Gate==0:\n",
    "            for i in range(3):\n",
    "                if abs(xm_pos-x_gate[i])<=(0.035*ymax) and abs(ym_pos - y_gate[int(player-1)][i])<=(0.035*ymax):\n",
    "                    Gate = i+1\n",
    "        elif Gate ==3:\n",
    "            for i in range(4):\n",
    "                    for j in range(4):\n",
    "                        if abs(xm_pos-x_c[i])<=(0.035*ymax) and abs(ym_pos - y_c[player-1][j])<=(0.035*ymax):\n",
    "                            xm_pos = x_c[i]\n",
    "                            ym_pos =  y_c[player-1][j]\n",
    "                            temp_cons1 = j\n",
    "                            temp_cons2 = i\n",
    "                            for k in range(4):\n",
    "                                if player_mat[player-1][k,i] !=0:\n",
    "                                    #print(k,i)\n",
    "                                    pygame.draw.line(win, (100,100,100), (x_c[i],y_c[player-1][j]),(x_c[i],y_c[player-1][k]), 3)\n",
    "            win.blit(Gates_image[Gate-1], (xm_pos-0.035*ymax, ym_pos-0.035*ymax))\n",
    "        else:\n",
    "            #if player == 1:\n",
    "            for i in range(4):\n",
    "                    for j in range(4):\n",
    "                        if abs(xm_pos-x_c[i])<=(0.035*ymax) and abs(ym_pos - y_c[player-1][j])<=(0.035*ymax):\n",
    "                            xm_pos = x_c[i]\n",
    "                            ym_pos =  y_c[player-1][j]\n",
    "                            temp_cons1 = j\n",
    "                            temp_cons2 = i\n",
    "            win.blit(Gates_image[Gate-1], (xm_pos-0.035*ymax, ym_pos-0.035*ymax))\n",
    "    else:\n",
    "        if Gate ==3 and abs(xm_pos-x_c[temp_cons2])<=(0.035*ymax) and abs(ym_pos - y_c[player-1][temp_cons1])<=(0.035*ymax):\n",
    "            temp_const_0 = len(np.where(np.array(player_mat[player-1][:,temp_cons2]).flatten()!=0)[0])\n",
    "            temp_const_1 = len(np.where(np.array(player_mat[player-1][:,temp_cons2]).flatten()==1)[0])\n",
    "            temp_const_2 = len(np.where(np.array(player_mat[player-1][:,temp_cons2]).flatten()==2)[0])\n",
    "            temp_const_3 = len(np.where(np.array(player_mat[player-1][:,temp_cons2]).flatten()==3)[0])\n",
    "            if  temp_const_0 != 0 and temp_const_1+temp_const_2 ==1:\n",
    "                if temp_const_1 ==1 and temp_const_3<1:\n",
    "                    player_mat[player-1][temp_cons1,temp_cons2] = Gate\n",
    "                    check_1 = True\n",
    "                elif temp_const_2 ==1:\n",
    "                    player_mat[player-1][temp_cons1,temp_cons2] = Gate\n",
    "                    check_1 = True\n",
    "            \n",
    "        elif Gate!= 0 and abs(xm_pos-x_c[temp_cons2])<=(0.035*ymax) and abs(ym_pos - y_c[player-1][temp_cons1])<=(0.035*ymax) :\n",
    "            if len(np.where(np.array(player_mat[player-1][:,temp_cons2]).flatten()==3)[0]) ==0:\n",
    "                player_mat[player-1][temp_cons1,temp_cons2] = Gate\n",
    "                check_1 = True\n",
    "        Gate = 0\n",
    "\n",
    "\n",
    "    for i in range (len(x_c)):\n",
    "        for j in range (len(x_c)):\n",
    "            if player_mat[player-1][i,j]==3:\n",
    "                for k in range (4):\n",
    "                    if player_mat[player-1][k,j]!=0 and player_mat[player-1][k,j]!=3:\n",
    "                        #print(i,k)\n",
    "                        pygame.draw.line(win, (100,100,100), (x_c[j],y_c[player-1][i]),(x_c[j],y_c[player-1][k]), 3)\n",
    "                win.blit(Gates_image[int(player_mat[player-1][i,j])-1], (x_c[j]-0.035*ymax, y_c[player-1][i]-0.035*ymax))\n",
    "    for i in range (len(x_c)):\n",
    "        for j in range (len(x_c)):\n",
    "                  \n",
    "            if player_mat[player-1][i,j]!=0and player_mat[player-1][i,j]!=3:\n",
    "                win.blit(Gates_image[int(player_mat[player-1][i,j])-1], (x_c[j]-0.035*ymax, y_c[player-1][i]-0.035*ymax))\n",
    "    \n",
    "    if check_1:\n",
    "        bool_grid = val(result(circuit(player_mat[player-1]),100))\n",
    "        check_1 = False\n",
    "        \n",
    "    win.blit(player_image[player], (coord_use[0][player1_pos[0]]+0.025*ymax, coord_use[1][player1_pos[1]]+0.025*ymax))\n",
    "    \n",
    "    coord_use = coord_grid[player-1][player-1]\n",
    "    for i in range (4):\n",
    "        for j in range(4):\n",
    "            if bool_grid[i,j]==1:\n",
    "                win.blit(coin, (coord_use[0][j]+0.075*ymax, coord_use[1][i]+0.075*ymax)) \n",
    "                \n",
    "    #coin\n",
    "    \n",
    "    keys=pygame.key.get_pressed()\n",
    "    #print(bool_grid[player1_pos[0],player1_pos[1]] ==1)\n",
    "    #check_3 = True\n",
    "    if keys[pygame.K_RETURN]!= True and check_3 == 1:\n",
    "        check_3 = 2\n",
    "\n",
    "    if keys[pygame.K_RETURN]and check_3==0 and position_check(bool_grid,player1_pos):\n",
    "        temp_const_3 = int(list(result(circuit(player_mat[0]),1).keys())[0],2)\n",
    "        player1_pos[1] = temp_const_3//4\n",
    "        player1_pos[0] = temp_const_3%4\n",
    "        check_3 = 1\n",
    "    elif keys[pygame.K_RETURN] and check_3 == 2:\n",
    "        run = False\n",
    "        \n",
    "    pygame.display.update()\n",
    "pygame.quit()"
   ]
  },
  {
   "cell_type": "code",
   "execution_count": 499,
   "metadata": {},
   "outputs": [
    {
     "data": {
      "text/plain": [
       "2"
      ]
     },
     "execution_count": 499,
     "metadata": {},
     "output_type": "execute_result"
    }
   ],
   "source": [
    "g = 1\n",
    "if g ==1:\n",
    "    g = 2\n",
    "elif g==2:\n",
    "    g = 3\n",
    "g\n",
    "\n",
    "\n",
    "\n",
    "\n",
    "\n",
    "\n",
    "\n",
    "\n",
    "\n",
    "\n"
   ]
  },
  {
   "cell_type": "code",
   "execution_count": 454,
   "metadata": {},
   "outputs": [
    {
     "data": {
      "text/plain": [
       "array([], dtype=int64)"
      ]
     },
     "execution_count": 454,
     "metadata": {},
     "output_type": "execute_result"
    }
   ],
   "source": [
    "np.where(coord_use==1)[0]"
   ]
  },
  {
   "cell_type": "code",
   "execution_count": 451,
   "metadata": {},
   "outputs": [
    {
     "data": {
      "text/plain": [
       "True"
      ]
     },
     "execution_count": 451,
     "metadata": {},
     "output_type": "execute_result"
    }
   ],
   "source": [
    "(bool_grid[player1_pos[0],player1_pos[1]] ==1 and len(np.where(coord_use==1)[0])!=1)"
   ]
  },
  {
   "cell_type": "code",
   "execution_count": 450,
   "metadata": {
    "scrolled": true
   },
   "outputs": [
    {
     "name": "stdout",
     "output_type": "stream",
     "text": [
      "False\n"
     ]
    },
    {
     "data": {
      "text/plain": [
       "False"
      ]
     },
     "execution_count": 450,
     "metadata": {},
     "output_type": "execute_result"
    }
   ],
   "source": [
    "position_check()"
   ]
  },
  {
   "cell_type": "code",
   "execution_count": 438,
   "metadata": {
    "scrolled": true
   },
   "outputs": [
    {
     "name": "stdout",
     "output_type": "stream",
     "text": [
      "-1\n",
      "0\n",
      "1\n"
     ]
    }
   ],
   "source": [
    "for i in range(-1,2):\n",
    "    print(i)"
   ]
  },
  {
   "cell_type": "code",
   "execution_count": 424,
   "metadata": {
    "scrolled": false
   },
   "outputs": [
    {
     "data": {
      "text/plain": [
       "0"
      ]
     },
     "execution_count": 424,
     "metadata": {},
     "output_type": "execute_result"
    }
   ],
   "source": [
    "player1_pos[0]"
   ]
  },
  {
   "cell_type": "code",
   "execution_count": 256,
   "metadata": {
    "scrolled": false
   },
   "outputs": [
    {
     "name": "stdout",
     "output_type": "stream",
     "text": [
      "[[3. 0. 3. 0.]\n",
      " [3. 3. 0. 0.]\n",
      " [3. 1. 1. 0.]\n",
      " [2. 0. 0. 0.]]\n"
     ]
    }
   ],
   "source": [
    "print(player_mat[0])"
   ]
  },
  {
   "cell_type": "code",
   "execution_count": 239,
   "metadata": {},
   "outputs": [
    {
     "data": {
      "text/plain": [
       "745.5"
      ]
     },
     "execution_count": 239,
     "metadata": {},
     "output_type": "execute_result"
    }
   ],
   "source": [
    "x_c[1]"
   ]
  },
  {
   "cell_type": "code",
   "execution_count": 437,
   "metadata": {},
   "outputs": [
    {
     "data": {
      "text/plain": [
       "(array([0, 0, 1, 1, 2, 2, 3, 3], dtype=int64),\n",
       " array([2, 3, 2, 3, 0, 1, 0, 1], dtype=int64))"
      ]
     },
     "execution_count": 437,
     "metadata": {},
     "output_type": "execute_result"
    }
   ],
   "source": [
    "np.where(bool_grid==0)"
   ]
  },
  {
   "cell_type": "code",
   "execution_count": 435,
   "metadata": {},
   "outputs": [
    {
     "data": {
      "text/plain": [
       "array([[1, 1, 0, 0],\n",
       "       [1, 1, 0, 0],\n",
       "       [0, 0, 1, 1],\n",
       "       [0, 0, 1, 1]])"
      ]
     },
     "execution_count": 435,
     "metadata": {},
     "output_type": "execute_result"
    }
   ],
   "source": [
    "bool_grid"
   ]
  },
  {
   "cell_type": "code",
   "execution_count": null,
   "metadata": {},
   "outputs": [],
   "source": []
  }
 ],
 "metadata": {
  "kernelspec": {
   "display_name": "Python 3",
   "language": "python",
   "name": "python3"
  },
  "language_info": {
   "codemirror_mode": {
    "name": "ipython",
    "version": 3
   },
   "file_extension": ".py",
   "mimetype": "text/x-python",
   "name": "python",
   "nbconvert_exporter": "python",
   "pygments_lexer": "ipython3",
   "version": "3.7.1"
  }
 },
 "nbformat": 4,
 "nbformat_minor": 4
}
