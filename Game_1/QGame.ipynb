{
 "cells": [
  {
   "cell_type": "markdown",
   "metadata": {},
   "source": [
    "# Imports"
   ]
  },
  {
   "cell_type": "code",
   "execution_count": 1,
   "metadata": {},
   "outputs": [
    {
     "name": "stdout",
     "output_type": "stream",
     "text": [
      "pygame 2.0.1 (SDL 2.0.14, Python 3.7.1)\n",
      "Hello from the pygame community. https://www.pygame.org/contribute.html\n"
     ]
    }
   ],
   "source": [
    "from qiskit import QuantumRegister, ClassicalRegister\n",
    "from qiskit import QuantumCircuit, execute, Aer\n",
    "import numpy as np\n",
    "import pygame"
   ]
  },
  {
   "cell_type": "code",
   "execution_count": 2,
   "metadata": {},
   "outputs": [
    {
     "name": "stdout",
     "output_type": "stream",
     "text": [
      "[0.2496, 0]\n"
     ]
    }
   ],
   "source": [
    "n = 2                                            # Number of player(alive)\n",
    "m = 1                                  # Total number of sources that can deal damage    \n",
    "l = 0\n",
    "Dam = [1]  \n",
    "k=2*n+m+l\n",
    "const_1= 0.668\n",
    "A = [1,1,const_1,1,1]\n",
    "\n",
    "def Event(A):\n",
    "    Damage = [0]*n\n",
    "    counts = 10000\n",
    "    qc = QuantumCircuit()\n",
    "    q = QuantumRegister(2*(n+l+m)+1+n, 'q')\n",
    "    c = ClassicalRegister(n, 'c')    \n",
    "    qc.add_register(q)\n",
    "    qc.add_register(c)\n",
    "    for i in range (2*n+m+l+1):\n",
    "        if i <n:                                                               \n",
    "            qc.u3(A[i]*np.pi, 0, 0, q[i])\n",
    "            qc.x(q[i+n])\n",
    "            qc.u3(A[i+n]*np.pi, 0, 0, q[i+n])\n",
    "        if n<=i<n+m:                                                            \n",
    "            qc.x(q[i+n])\n",
    "            qc.u3(A[i+n]*(1-Dam[i-n])*np.pi, 0, 0, q[i+n])\n",
    "        if n+m<=i<n+m+l:\n",
    "            qc.x(q[i+n])\n",
    "            qc.u3(A[i+n]*np.pi, 0, 0, q[i+n])\n",
    "        if i == n+m+l:\n",
    "            qc.mct(q[2*n:2*n+l+m], q[2*n+m+l+1], q[3*n+m+l+2:3*n+2*l+2*m+1])\n",
    "        if n+m+l<i<2*n+m+l+1:        \n",
    "            qc.ccx(q[i-(n+m+l+1)], q[i-(m+l+1)], q[2*n+m+l])           \n",
    "            qc.ccx(q[2*n+m+l], q[2*n+m+l+1], q[i+n+1])\n",
    "            qc.ccx(q[i-(n+m+l+1)], q[i-(m+l+1)], q[2*n+m+l])\n",
    "            qc.measure(q[i+1+n], c[2*n+m+l-i])\n",
    "    qc.draw()\n",
    "    backend = Aer.get_backend('qasm_simulator')\n",
    "    job = execute(qc, backend=backend,shots = counts)\n",
    "    job_result = job.result()\n",
    "    A = list(job_result.get_counts(qc).keys())\n",
    "    for i in A:\n",
    "        B = list(i)\n",
    "        for j in range (n):\n",
    "            if B[j] == '1':\n",
    "                Damage[j]+= int(job_result.get_counts(qc).get(i)) /counts\n",
    "    return Damage\n",
    "\n",
    "print(Event(A))"
   ]
  },
  {
   "cell_type": "code",
   "execution_count": null,
   "metadata": {},
   "outputs": [],
   "source": [
    "def (mat):\n",
    "    control = []\n",
    "    for i in range(4):\n",
    "        for j in range(4):\n",
    "             if mat[i,j] = 3\n",
    "                control.append(j)\n",
    "    control = list(set(control)) \n",
    "    for i in control:\n",
    "        \n",
    "        "
   ]
  },
  {
   "cell_type": "markdown",
   "metadata": {},
   "source": [
    "# Structure of the Board"
   ]
  },
  {
   "cell_type": "code",
   "execution_count": 9,
   "metadata": {},
   "outputs": [],
   "source": [
    "def Structure():\n",
    "    pygame.draw.line(win, (0,0,0), (0, ymax/2),(xmax,ymax/2), 2)   \n",
    "    pygame.draw.line(win, (0,0,0), (d_x,p_y),(d_x,ymax/2), 5)\n",
    "    pygame.draw.line(win, (0,0,0), (d_x*2,p_y),(d_x*2,ymax/2), 5)  \n",
    "    pygame.draw.line(win, (0,0,0), (d_x,ymax/2+p_y),(d_x,ymax), 5)  \n",
    "    pygame.draw.line(win, (0,0,0), (d_x*2,ymax/2+p_y),(d_x*2,ymax), 5)  \n",
    "\n",
    "    pygame.draw.line(win, (0,0,0), (0,p_y),(xmax,p_y), 2)\n",
    "    pygame.draw.line(win, (0,0,0), (0,ymax/2+p_y),(xmax,ymax/2+p_y), 2)\n",
    "    # Division between the last box\n",
    "    pygame.draw.line(win, (0,0,0), (d_x*2,r_1+p_y),(xmax,r_1+p_y), 2)\n",
    "    pygame.draw.line(win, (0,0,0), (d_x*2,r_1+p_y+ymax/2),(xmax,r_1+p_y+ymax/2), 2)\n",
    "    \n",
    "    \n",
    "    # Section in First and second Box \n",
    "    def grid(x,y):\n",
    "        for i in range(1,4):\n",
    "            pygame.draw.line(win, (0,0,0), (x,s_d*i+y),(x+d_x,s_d*i+y), 2)\n",
    "            pygame.draw.line(win, (0,0,0), (s_d*i+x,y),(s_d*i+x,y+d_x), 2)\n",
    "        return()\n",
    "\n",
    "    for i in range(2):\n",
    "        for j in range(2):\n",
    "            grid(d_x*i,j*ymax/2+p_y)\n",
    "            \n",
    "            \n",
    "    \n",
    "    #Gates Position\n",
    "    def gates(x,y):\n",
    "        win.blit(H, (x+0.03*ymax, y+0.03*ymax)) \n",
    "        win.blit(X, (x+0.13*ymax, y+0.03*ymax)) \n",
    "        win.blit(D, (x+0.23*ymax, y+0.03*ymax))\n",
    "        win.blit(C, (x+0.33*ymax, y+0.03*ymax))\n",
    "                          \n",
    "        return()\n",
    "    gates(0.9*ymax,ymax*0.370)\n",
    "    gates(0.9*ymax,ymax*0.870)\n",
    "    \n",
    "    # Qubit Wire\n",
    "    for i in range (4):\n",
    "        pygame.draw.line(win, (0,0,0), (d_x*2+0.0148148*xmax,0.09*ymax+0.08*ymax*i),((1-0.0148148)*xmax,0.09*ymax+0.08*ymax*i), 2)\n",
    "        pygame.draw.line(win, (0,0,0), (d_x*2+0.0148148*xmax,0.59*ymax+0.08*ymax*i),((1-0.0148148)*xmax,0.59*ymax+0.08*ymax*i), 2)\n",
    "    \n",
    "    \n",
    "    return()"
   ]
  },
  {
   "cell_type": "markdown",
   "metadata": {},
   "source": [
    "# Intializarion of Data and Constant"
   ]
  },
  {
   "cell_type": "code",
   "execution_count": 21,
   "metadata": {},
   "outputs": [],
   "source": [
    "xmin = ymin = 0\n",
    "\n",
    "ymax = 700\n",
    "p_y = 0.05*ymax\n",
    "d_x = ymax/2-p_y#450\n",
    "xmax = d_x*3\n",
    "r_1 = 0.320*ymax                                        # Constant for the division between the circuit and gates\n",
    "s_d = 0.112*ymax                                           # Constatnt for grids in the first 2 box \n",
    "\n",
    "x_temp= y_temp = 0\n",
    "Gate = 0\n",
    "x_c = []\n",
    "y_c1 = []\n",
    "y_c2 = []\n",
    "x_gate = []\n",
    "y_gate_1 = []\n",
    "y_gate_2 = []\n",
    "for i in range (4):\n",
    "    y_c1.append(0.09*ymax+0.08*ymax*i)\n",
    "    x_c.append((0.965+0.1*i)*ymax)\n",
    "    y_c2.append(0.59*ymax+0.08*ymax*i)\n",
    "for i in range(3):\n",
    "    x_gate.append((0.965+0.1*i)*ymax)\n",
    "    y_gate_1.append(ymax*0.435)\n",
    "    y_gate_2.append(ymax*0.935)\n",
    "y_c = [y_c1,y_c2]\n",
    "y_gate=[y_gate_1,y_gate_2]\n",
    "x_cancle = 1.265*ymax\n",
    "y_cancle = [ymax*0.435,ymax*0.935]\n",
    "H = pygame.image.load(r'Resource\\H.jpg')\n",
    "X = pygame.image.load(r'Resource\\X.jpg')\n",
    "D = pygame.image.load(r'Resource\\D.jpg')\n",
    "C = pygame.image.load(r'Resource\\C.png')\n",
    "edge = int(0.07*ymax)\n",
    "H = pygame.transform.scale(H, (edge, edge))\n",
    "X = pygame.transform.scale(X, (edge, edge))\n",
    "D = pygame.transform.scale(D, (edge, edge))\n",
    "C = pygame.transform.scale(C, (edge, edge))"
   ]
  },
  {
   "cell_type": "markdown",
   "metadata": {},
   "source": [
    "# Pygame"
   ]
  },
  {
   "cell_type": "code",
   "execution_count": 37,
   "metadata": {},
   "outputs": [],
   "source": [
    "player_mat= [np.zeros((4,4)),np.zeros((4,4))]\n",
    "player = 1\n",
    "\n",
    "pygame.init()\n",
    "win = pygame.display.set_mode((int(xmax),int(ymax)))\n",
    "pygame.display.set_caption(\"QGame_1\")\n",
    "run = True\n",
    "while run:\n",
    "    if player ==1:\n",
    "        player_mat[1] = np.zeros((4,4))\n",
    "    else:\n",
    "        player_mat[0] = np.zeros((4,4))\n",
    "    pygame.time.delay(10)\n",
    "    for event in pygame.event.get():\n",
    "        if event.type == pygame.QUIT:\n",
    "            run = False\n",
    "    win.fill((255,255,255))\n",
    "    \n",
    "    Structure()\n",
    "    Gates_image = [H,X,D]\n",
    "    \n",
    "    for i in range(len(x_c)):\n",
    "        for j in range(len(y_c1)):\n",
    "            pygame.draw.circle(win, (0,0,0), (x_c[i],y_c1[j]), 3)\n",
    "            pygame.draw.circle(win, (0,0,0), (x_c[i],y_c2[j]), 3)\n",
    "    \n",
    "    xm_pos,ym_pos=pygame.mouse.get_pos()\n",
    "    \n",
    "\n",
    "    if pygame.mouse.get_pressed()[0]:\n",
    "        if abs(xm_pos-x_cancle)<=(0.035*ymax) and abs(ym_pos - y_cancle[int(player-1)])<=(0.035*ymax):\n",
    "            player_mat[player-1] = np.zeros((4,4))\n",
    "        \n",
    "        if Gate==0:\n",
    "            for i in range(3):\n",
    "                if abs(xm_pos-x_gate[i])<=(0.035*ymax) and abs(ym_pos - y_gate[int(player-1)][i])<=(0.035*ymax):\n",
    "                    Gate = i+1\n",
    "        elif Gate ==3:\n",
    "            for i in range(4):\n",
    "                    for j in range(4):\n",
    "                        if abs(xm_pos-x_c[i])<=(0.035*ymax) and abs(ym_pos - y_c[player-1][j])<=(0.035*ymax):\n",
    "                            xm_pos = x_c[i]\n",
    "                            ym_pos =  y_c[player-1][j]\n",
    "                            temp_cons1 = j\n",
    "                            temp_cons2 = i\n",
    "                            for k in range(4):\n",
    "                                if player_mat[player-1][k,i] !=0:\n",
    "                                    #print(k,i)\n",
    "                                    pygame.draw.line(win, (100,100,100), (x_c[i],y_c[player-1][j]),(x_c[i],y_c[player-1][k]), 3)\n",
    "            win.blit(Gates_image[Gate-1], (xm_pos-0.035*ymax, ym_pos-0.035*ymax))\n",
    "        else:\n",
    "            #if player == 1:\n",
    "            for i in range(4):\n",
    "                    for j in range(4):\n",
    "                        if abs(xm_pos-x_c[i])<=(0.035*ymax) and abs(ym_pos - y_c[player-1][j])<=(0.035*ymax):\n",
    "                            xm_pos = x_c[i]\n",
    "                            ym_pos =  y_c[player-1][j]\n",
    "                            temp_cons1 = j\n",
    "                            temp_cons2 = i\n",
    "            win.blit(Gates_image[Gate-1], (xm_pos-0.035*ymax, ym_pos-0.035*ymax))\n",
    "    else:\n",
    "        if Gate ==3 and abs(xm_pos-x_c[temp_cons2])<=(0.035*ymax) and abs(ym_pos - y_c[player-1][temp_cons1])<=(0.035*ymax):\n",
    "            for i in range(4):\n",
    "                if player_mat[player-1][i,temp_cons2] != 0:\n",
    "                    player_mat[player-1][temp_cons1,temp_cons2] = Gate\n",
    "            \n",
    "        elif Gate!= 0 and abs(xm_pos-x_c[temp_cons2])<=(0.035*ymax) and abs(ym_pos - y_c[player-1][temp_cons1])<=(0.035*ymax) :\n",
    "            player_mat[player-1][temp_cons1,temp_cons2] = Gate\n",
    "        Gate = 0\n",
    "\n",
    "\n",
    "    for i in range (len(x_c)):\n",
    "        for j in range (len(x_c)):\n",
    "            if player_mat[player-1][i,j]==3:\n",
    "                for k in range (4):\n",
    "                    if player_mat[player-1][k,j]!=0 and player_mat[player-1][k,j]!=3:\n",
    "                        #print(i,k)\n",
    "                        pygame.draw.line(win, (100,100,100), (x_c[j],y_c[player-1][i]),(x_c[j],y_c[player-1][k]), 3)\n",
    "                win.blit(Gates_image[int(player_mat[player-1][i,j])-1], (x_c[j]-0.035*ymax, y_c[player-1][i]-0.035*ymax))\n",
    "    for i in range (len(x_c)):\n",
    "        for j in range (len(x_c)):\n",
    "                  \n",
    "            if player_mat[player-1][i,j]!=0and player_mat[player-1][i,j]!=3:\n",
    "                win.blit(Gates_image[int(player_mat[player-1][i,j])-1], (x_c[j]-0.035*ymax, y_c[player-1][i]-0.035*ymax))\n",
    "    \n",
    "    \n",
    "    pygame.display.update()\n",
    "    \n",
    "pygame.quit()"
   ]
  },
  {
   "cell_type": "code",
   "execution_count": 8,
   "metadata": {
    "scrolled": false
   },
   "outputs": [
    {
     "name": "stdout",
     "output_type": "stream",
     "text": [
      "0.0\n"
     ]
    }
   ],
   "source": [
    "print(player_mat[0][1,2])"
   ]
  },
  {
   "cell_type": "code",
   "execution_count": 239,
   "metadata": {},
   "outputs": [
    {
     "data": {
      "text/plain": [
       "745.5"
      ]
     },
     "execution_count": 239,
     "metadata": {},
     "output_type": "execute_result"
    }
   ],
   "source": [
    "x_c[1]"
   ]
  },
  {
   "cell_type": "code",
   "execution_count": null,
   "metadata": {},
   "outputs": [],
   "source": []
  }
 ],
 "metadata": {
  "kernelspec": {
   "display_name": "Python 3",
   "language": "python",
   "name": "python3"
  },
  "language_info": {
   "codemirror_mode": {
    "name": "ipython",
    "version": 3
   },
   "file_extension": ".py",
   "mimetype": "text/x-python",
   "name": "python",
   "nbconvert_exporter": "python",
   "pygments_lexer": "ipython3",
   "version": "3.7.1"
  }
 },
 "nbformat": 4,
 "nbformat_minor": 4
}
